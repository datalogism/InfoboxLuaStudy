{
 "cells": [
  {
   "cell_type": "markdown",
   "metadata": {},
   "source": [
    "# Evaluating the new Infobox impact on data quality"
   ]
  },
  {
   "cell_type": "markdown",
   "metadata": {},
   "source": [
    "## What are the new infoboxes ?"
   ]
  },
  {
   "cell_type": "markdown",
   "metadata": {},
   "source": [
    "* the dynamics infobox are listed here :  https://fr.wikipedia.org/wiki/Cat%C3%A9gorie:Mod%C3%A8le_appelant_des_modules_en_langage_Lua"
   ]
  },
  {
   "cell_type": "code",
   "execution_count": 7,
   "metadata": {},
   "outputs": [
    {
     "name": "stdout",
     "output_type": "stream",
     "text": [
      "418  new infoboxes templates\n"
     ]
    }
   ],
   "source": [
    "from collections import Counter\n",
    "file_path=\"/user/cringwal/home/Desktop/DBpedia_tests/WikidataEval/\"\n",
    "models=[]\n",
    "with open(file_path+'liste_infobox_wikidata.txt') as f:\n",
    "    for line in f:\n",
    "        name=line.replace(\"\\n\",\"\").replace(\" \",\"\")\n",
    "        models.append({\"name\":name})\n",
    "print(len(models),\" new infoboxes templates\")"
   ]
  },
  {
   "cell_type": "markdown",
   "metadata": {},
   "source": [
    "* but not all of them are infobox templates ! So we ask to the wikipedia API the pages linked to theses modeles if we found a significative number of \"Wikidata\" occurences inside, we could image that they are dynamic infobox feeded with data coming from Wikidata"
   ]
  },
  {
   "cell_type": "raw",
   "metadata": {},
   "source": [
    "model_wikidata={}\n",
    "for model in models :\n",
    "    if model not in model_wikidata.keys():\n",
    "        r=requests.get(\"https://fr.wikipedia.org/w/api.php?action=parse&page=\"+model+\"&prop=text&format=json\")\n",
    "        print(r.status_code)\n",
    "        if(r.status_code==200):\n",
    "            r2=r.json()\n",
    "            text=r2['parse']['text']\n",
    "            nb_wikidata=text[\"*\"].count('wikidata')\n",
    "            nb_wikidata2=text[\"*\"].count('Wikidata')\n",
    "            model_wikidata[model[\"name\"]]={\"wikidata\":nb_wikidata,\"Wikidata\":nb_wikidata2}\n",
    "\n",
    "## We save it in a file because the process take some times to compute\n",
    "with open(file_path+\"model_wikidata.json\", 'w', encoding='utf-8') as f:\n",
    "    json.dump(model_wikidata, f, ensure_ascii=False, indent=4)     "
   ]
  },
  {
   "cell_type": "code",
   "execution_count": 10,
   "metadata": {},
   "outputs": [],
   "source": [
    "import json\n",
    "with open(file_path+\"model_wikidata.json\") as json_file:\n",
    "    model_wikidata = json.load(json_file)\n",
    "\n"
   ]
  },
  {
   "cell_type": "code",
   "execution_count": 19,
   "metadata": {},
   "outputs": [
    {
     "name": "stdout",
     "output_type": "stream",
     "text": [
      "206\n",
      "212\n"
     ]
    },
    {
     "data": {
      "image/png": "[encoded data removed]",
      "text/plain": [
       "<Figure size 432x288 with 1 Axes>"
      ]
     },
     "metadata": {
      "needs_background": "light"
     },
     "output_type": "display_data"
    }
   ],
   "source": [
    "model_wikidata_sum=[model_wikidata[k]['wikidata']+model_wikidata[k]['Wikidata'] for k in model_wikidata.keys()]\n",
    "import numpy as np\n",
    "import matplotlib.pyplot as plt\n",
    "plt.hist(model_wikidata_sum)\n",
    "print( model_wikidata_sum.count(0))\n",
    "count = sum(map(lambda x : x>0, model_wikidata_sum))\n",
    "print(count)"
   ]
  },
  {
   "cell_type": "code",
   "execution_count": 42,
   "metadata": {},
   "outputs": [
    {
     "name": "stdout",
     "output_type": "stream",
     "text": [
      "['https://fr.wikipedia.org/wiki/Modèle:Infobox_Veine', 'https://fr.wikipedia.org/wiki/Modèle:Catégorise_personne', 'https://fr.wikipedia.org/wiki/Modèle:Infobox_Centre_de_congrès', 'https://fr.wikipedia.org/wiki/Modèle:Infobox_Fonction_mathématique', 'https://fr.wikipedia.org/wiki/Modèle:Infobox_Particule', 'https://fr.wikipedia.org/wiki/Modèle:Infobox_Obélisque', 'https://fr.wikipedia.org/wiki/Modèle:Infobox_Pyramide_égyptienne', 'https://fr.wikipedia.org/wiki/Modèle:Infobox_Timbre']\n"
     ]
    }
   ],
   "source": [
    "# WE check mannually with this page having more than 1 occurences seems to be Infobox \n",
    "output = [\"https://fr.wikipedia.org/wiki/\"+list(model_wikidata.keys())[idx] for idx, element in enumerate(model_wikidata_sum) if element==2]\n",
    "print(output)"
   ]
  },
  {
   "cell_type": "code",
   "execution_count": 46,
   "metadata": {},
   "outputs": [
    {
     "name": "stdout",
     "output_type": "stream",
     "text": [
      "177  template are dynamic Infoboxes\n"
     ]
    }
   ],
   "source": [
    "# So we put it in a list \n",
    "model_infobox = [list(model_wikidata.keys())[idx] for idx, element in enumerate(model_wikidata_sum) if element>1]\n",
    "print(len(model_infobox),\" template are dynamic Infoboxes\")"
   ]
  },
  {
   "cell_type": "code",
   "execution_count": 82,
   "metadata": {},
   "outputs": [
    {
     "data": {
      "text/plain": [
       "['Modèle:Infobox_Aire_protégée',\n",
       " 'Modèle:Infobox_Animal',\n",
       " 'Modèle:ArchivéPar',\n",
       " 'Modèle:Infobox_Veine',\n",
       " 'Modèle:Infobox_Artiste',\n",
       " 'Modèle:AscendanceParWikidata',\n",
       " 'Modèle:AscendanceParWikidata/4gen',\n",
       " 'Modèle:AscendanceParWikidata/5gen',\n",
       " 'Modèle:AscendanceParWikidata/6gen',\n",
       " 'Modèle:Infobox_Astre',\n",
       " 'Modèle:Infobox_Auteur_de_livre-jeu',\n",
       " 'Modèle:Autorité',\n",
       " 'Modèle:Infobox_Barrage',\n",
       " 'Modèle:Barre_de_navigation',\n",
       " 'Modèle:Bases',\n",
       " 'Modèle:Bases_architecture',\n",
       " 'Modèle:Bases_art',\n",
       " 'Modèle:Bases_astronomie',\n",
       " 'Modèle:Bases_audiovisuel',\n",
       " 'Modèle:Bases_bande_dessinée',\n",
       " 'Modèle:Bases_géographie',\n",
       " 'Modèle:Bases_jeu',\n",
       " 'Modèle:Bases_littérature',\n",
       " 'Modèle:Bases_mode',\n",
       " 'Modèle:Bases_multidisciplinaires',\n",
       " 'Modèle:Bases_musique',\n",
       " 'Modèle:Bases_organisation',\n",
       " 'Modèle:Bases_recherche',\n",
       " 'Modèle:Bases_religion',\n",
       " 'Modèle:Bases_santé',\n",
       " 'Modèle:Bases_spectacle',\n",
       " 'Modèle:Bases_sport',\n",
       " 'Modèle:Bases_tourisme',\n",
       " 'Modèle:Bases_transport',\n",
       " 'Modèle:Bases_vie_publique',\n",
       " 'Modèle:Bases_vivant',\n",
       " 'Modèle:Bibliographie',\n",
       " 'Modèle:Infobox_Bilan_sportif',\n",
       " 'Modèle:Infobox_Biographie2',\n",
       " 'Modèle:Blog_officiel',\n",
       " 'Modèle:Carte_interactive',\n",
       " 'Modèle:Carte_interactive/Marqueur',\n",
       " 'Modèle:Carte_interactive/Wikidata',\n",
       " 'Modèle:Infobox_Catch_(personnalité)',\n",
       " 'Modèle:Infobox_Catch_(spectacle)',\n",
       " 'Modèle:Infobox_Catch_(spectacles)',\n",
       " 'Modèle:Catégorise_personne',\n",
       " 'Modèle:Infobox_Centre_commercial',\n",
       " 'Modèle:Infobox_Centre_de_congrès',\n",
       " \"Modèle:Infobox_Chute_d'eau\",\n",
       " 'Modèle:Infobox_Cimetière',\n",
       " 'Modèle:Infobox_Clan',\n",
       " 'Modèle:Infobox_Collection_de_livre-jeu',\n",
       " 'Modèle:Infobox_Combiné_nordique_2',\n",
       " 'Modèle:Infobox_Commanderie',\n",
       " 'Modèle:Infobox_Concert_du_nouvel_an',\n",
       " 'Modèle:Infobox_Console_de_jeux_vidéo',\n",
       " 'Modèle:Infobox_Course_cycliste',\n",
       " 'Modèle:Cycling_race/listofstages',\n",
       " 'Modèle:Cycling_race/listofstagesclassification',\n",
       " 'Modèle:Cycling_race/listofwinners',\n",
       " 'Modèle:Cycling_race/listofwinnersChamp',\n",
       " 'Modèle:Cycling_race/listofwinnersChampsecondpart',\n",
       " 'Modèle:Cycling_race/startlist',\n",
       " 'Modèle:Cycling_race/startlisttable',\n",
       " 'Modèle:Démographie',\n",
       " 'Modèle:Infobox_Descriptif_course_cycliste',\n",
       " 'Modèle:Dictionnaires',\n",
       " 'Modèle:Infobox_Discours',\n",
       " 'Modèle:Infobox_Épidémie',\n",
       " 'Modèle:Infobox_Équipe_cycliste',\n",
       " 'Modèle:Infobox_Équipe_de_sport_électronique',\n",
       " 'Modèle:Infobox_Espace_vert2',\n",
       " 'Modèle:Infobox_Étape',\n",
       " 'Modèle:Infobox_Événement_météorologique',\n",
       " 'Modèle:Infobox_Feu_de_forêt',\n",
       " 'Modèle:Infobox_Fonction_mathématique',\n",
       " 'Modèle:Infobox_Fort_romain',\n",
       " 'Modèle:Infobox_Fromage',\n",
       " 'Modèle:Infobox_Gratte-ciel',\n",
       " 'Modèle:Infobox_Grotte',\n",
       " 'Modèle:Infobox_Hôtel',\n",
       " 'Modèle:Infobox_Indice_boursier',\n",
       " 'Modèle:Infobox',\n",
       " 'Modèle:Infobox_Art',\n",
       " 'Modèle:Infobox_Centrale',\n",
       " 'Modèle:Infobox_Centrale_nucléaire',\n",
       " 'Modèle:Infobox_Cheminée',\n",
       " 'Modèle:Infobox_Concept_socio-fiscal',\n",
       " 'Modèle:Infobox_Cycliste',\n",
       " 'Modèle:Infobox_Discipline',\n",
       " 'Modèle:Infobox_Format_de_données',\n",
       " 'Modèle:Infobox_Groupe_de_musique',\n",
       " 'Modèle:Infobox_Jeu_de_données',\n",
       " 'Modèle:Infobox_Jeu_vidéo',\n",
       " 'Modèle:Infobox_Joueur_de_jeux_vidéo',\n",
       " 'Modèle:Infobox_Lieu_de_fiction',\n",
       " 'Modèle:Infobox_Méthode_scientifique',\n",
       " 'Modèle:Infobox_Nœud',\n",
       " 'Modèle:Infobox_Objet',\n",
       " \"Modèle:Infobox_Ouvrage_d'art\",\n",
       " 'Modèle:Infobox_Particule',\n",
       " 'Modèle:Infobox_Personnage_de_One_Piece',\n",
       " 'Modèle:Infobox_Philosophe',\n",
       " 'Modèle:Infobox_Politique_publique',\n",
       " 'Modèle:Infobox_Sentier',\n",
       " 'Modèle:Infobox_Style_architectural',\n",
       " 'Modèle:Infobox_Télescope',\n",
       " 'Modèle:Infobox_Temple_bouddhiste',\n",
       " 'Modèle:Infobox_Tribu_du_Maroc',\n",
       " 'Modèle:Infobox/Ligne_mixte_latitude_longitude',\n",
       " 'Modèle:Infobox/Ligne_mixte_latitude_longitude_optionnelle',\n",
       " 'Modèle:Infobox_Appareil_informatique',\n",
       " 'Modèle:Intitulé',\n",
       " 'Modèle:Jumelages',\n",
       " 'Modèle:Légende_Wikidata',\n",
       " 'Modèle:Libellé_Wikidata',\n",
       " 'Modèle:Ligne_de_tableau_Pont',\n",
       " 'Modèle:Linkback',\n",
       " 'Modèle:Liste_des_dirigeants_successifs',\n",
       " 'Modèle:Liste_valeur_chemin_wikidata',\n",
       " 'Modèle:Infobox_Localité',\n",
       " \"Modèle:Infobox_Maison_d'édition_2\",\n",
       " \"Modèle:Infobox_Maison_d'édition_de_livres-jeux\",\n",
       " 'Modèle:Infobox_Matériaux',\n",
       " 'Modèle:Infobox_Métier',\n",
       " 'Modèle:Infobox_Mine',\n",
       " 'Modèle:Infobox_Monument',\n",
       " 'Modèle:Infobox_Moteur',\n",
       " 'Modèle:Infobox_Muscle',\n",
       " 'Modèle:Infobox_Musée',\n",
       " 'Modèle:Infobox_Nerf',\n",
       " 'Modèle:NooSFere_auteur',\n",
       " 'Modèle:NooSFere_édition',\n",
       " 'Modèle:NooSFere_livre',\n",
       " 'Modèle:NooSFere_œuvre',\n",
       " 'Modèle:NooSFere_série',\n",
       " 'Modèle:Infobox_Notes_de_série_de_jeux_vidéo',\n",
       " 'Modèle:Infobox_Nuage',\n",
       " 'Modèle:Numéro_Q',\n",
       " 'Modèle:Infobox_Obélisque',\n",
       " 'Modèle:Infobox_Observatoire',\n",
       " 'Modèle:Infobox_Organisation2',\n",
       " 'Modèle:Infobox_Ouvrage',\n",
       " 'Modèle:Infobox_Parlement',\n",
       " 'Modèle:Infobox_Périphérique_de_jeux_vidéo',\n",
       " 'Modèle:Infobox_Phare',\n",
       " 'Modèle:Infobox_Photographie',\n",
       " 'Modèle:Infobox_Plage',\n",
       " 'Modèle:Infobox_Poème',\n",
       " 'Modèle:Infobox_Port',\n",
       " 'Modèle:Prononciation',\n",
       " 'Modèle:Infobox_Pyramide_égyptienne',\n",
       " \"Modèle:Infobox_Région_électorale_pour_l'assemblée_nationale_du_pays_de_Galles\",\n",
       " 'Modèle:Infobox_Relief',\n",
       " 'Modèle:Infobox_Relief_terrestre',\n",
       " \"Modèle:Infobox_Saison_d'équipe_cycliste\",\n",
       " 'Modèle:Infobox_Série_de_jeux_vidéo',\n",
       " 'Modèle:Infobox_Série_de_livres-jeux',\n",
       " 'Modèle:Site_officiel',\n",
       " 'Modèle:Infobox_Stade',\n",
       " 'Modèle:Stations_voisines',\n",
       " 'Modèle:Tableau_qualificateurs',\n",
       " 'Modèle:Infobox_Tapis_persan',\n",
       " 'Modèle:Infobox_Technopôle',\n",
       " 'Modèle:Infobox_Temple_égyptien',\n",
       " 'Modèle:Infobox_Temple_hindouiste',\n",
       " 'Modèle:Infobox_Timbre',\n",
       " 'Modèle:Infobox_Titre_de_livre-jeu',\n",
       " 'Modèle:Titulaires',\n",
       " 'Modèle:Infobox_Université',\n",
       " 'Modèle:Infobox_Usine',\n",
       " 'Modèle:Infobox_Vaccin',\n",
       " 'Modèle:Infobox_Variété_de_houblon',\n",
       " 'Modèle:Infobox_Vêtement',\n",
       " 'Modèle:Wikidata',\n",
       " 'Modèle:Wikidata/NommageContemporainDe']"
      ]
     },
     "execution_count": 82,
     "metadata": {},
     "output_type": "execute_result"
    }
   ],
   "source": [
    "model_infobox"
   ]
  },
  {
   "cell_type": "markdown",
   "metadata": {},
   "source": [
    "## Focus on DBpedia "
   ]
  },
  {
   "cell_type": "markdown",
   "metadata": {},
   "source": [
    "### How many of them are mapped ?"
   ]
  },
  {
   "cell_type": "code",
   "execution_count": 50,
   "metadata": {},
   "outputs": [
    {
     "name": "stdout",
     "output_type": "stream",
     "text": [
      "2  infoboxes are mapped in DBpedia FR\n"
     ]
    }
   ],
   "source": [
    "\n",
    "import requests \n",
    "# We get the mapping file of DBpedia FR\n",
    "url_mapping=\"https://raw.githubusercontent.com/dbpedia/extraction-framework/master/mappings/Mapping_fr.xml\"\n",
    "r = requests.get(url_mapping)\n",
    "xml_string=r.text\n",
    "mapped_infoboxes=[]\n",
    "for name in model_infobox:\n",
    " if name.replace(\"Modèle:\",\"\") in xml_string:\n",
    "    mapped_infoboxes.append(name)\n",
    "print(len(mapped_infoboxes),\" infoboxes are mapped in DBpedia FR\")"
   ]
  },
  {
   "cell_type": "markdown",
   "metadata": {},
   "source": [
    "### How many entities is it concerning ?"
   ]
  },
  {
   "cell_type": "code",
   "execution_count": 70,
   "metadata": {},
   "outputs": [],
   "source": [
    "endpoint2022=\"http://prod-dbpedia.inria.fr/sparql\"\n",
    "\n",
    "query='''SELECT  COUNT(?s) as ?nb  \n",
    "        FROM  <http://fr.dbpedia.org/graph/dbpedia_generic_article-templates> \n",
    "        WHERE {\n",
    "        ?s <http://fr.dbpedia.org/property/wikiPageUsesTemplate> ?model\n",
    "        }'''\n",
    "r = requests.get(endpoint2022, params = {'format': 'json', 'query': query})\n",
    "raw_data = r.json()\n",
    "nb_total=raw_data['results']['bindings'][0]['nb']['value']\n"
   ]
  },
  {
   "cell_type": "code",
   "execution_count": 71,
   "metadata": {
    "scrolled": true
   },
   "outputs": [],
   "source": [
    "\n",
    "models=\" \".join([\"<http://fr.dbpedia.org/resource/\"+infobox+\">\"for infobox in model_infobox])\n",
    "query='''SELECT  COUNT(?s) as ?nb  \n",
    "        FROM  <http://fr.dbpedia.org/graph/dbpedia_generic_article-templates> \n",
    "        WHERE {\n",
    "        VALUES ?model {'''+models+'''}\n",
    "        ?s <http://fr.dbpedia.org/property/wikiPageUsesTemplate> ?model\n",
    "        }'''\n",
    "r = requests.post(endpoint2022, data = {'format': 'json', 'query': query})\n",
    "raw_data = r.json()\n",
    "nb_dynamic=raw_data['results']['bindings'][0]['nb']['value']\n"
   ]
  },
  {
   "cell_type": "code",
   "execution_count": 72,
   "metadata": {},
   "outputs": [
    {
     "name": "stdout",
     "output_type": "stream",
     "text": [
      "->  26786001  triplets describing template use of wikipedia pages\n",
      "->  1524364  of them are dynamic\n",
      "-> it represents a part of  5.690898017960949 %\n"
     ]
    }
   ],
   "source": [
    "print(\"-> \",nb_total,\" triplets describing template use of wikipedia pages\")\n",
    "print(\"-> \",nb_dynamic,\" of them are dynamic\")\n",
    "print(\"-> it represents a part of \",int(nb_dynamic)/int(nb_total)*100,\"%\")"
   ]
  },
  {
   "cell_type": "markdown",
   "metadata": {},
   "source": [
    "### Is it an increasing phenomena ?"
   ]
  },
  {
   "cell_type": "markdown",
   "metadata": {},
   "source": [
    "So we don't have any view about that so we will mine the archive"
   ]
  },
  {
   "cell_type": "raw",
   "metadata": {},
   "source": [
    "file_path2=\"/user/cringwal/home/Desktop/DBpedia_tests/WikidataEval/templates_datasets/\"\n",
    "\n",
    "onlyfiles = [f for f in listdir(file_path2) if 'bz2' not in f ]\n",
    "dict_year_stats={}\n",
    "\n",
    "for f in onlyfiles:\n",
    "    year=re.findall(r'\\d{4}', f)\n",
    "    year=year[0]\n",
    "    bashCmd = [\"wc\", \"-l\",file_path2+f]\n",
    "    process = subprocess.Popen(bashCmd, stdout=subprocess.PIPE)\n",
    "    output, error = process.communicate()\n",
    "    nb_lines=int(output.split()[0])\n",
    "    nb_found_template={}\n",
    "   \n",
    "    for model in model_infobox:\n",
    "        pattern='<http://fr.dbpedia.org/resource/'+model[\"name\"]+'>'\n",
    "        process1 = subprocess.Popen([\"grep\", \"-o\",pattern,file_path2+f], stdout=PIPE)\n",
    "        process2 = subprocess.Popen([\"wc\",\"-l\"],  stdin=process1.stdout,stdout=PIPE)\n",
    "        output, error = process2.communicate()\n",
    "        if(len(output)>0):\n",
    "            nb_found=int(output.split()[0])    \n",
    "            if(nb_found!=0):\n",
    "                nb_found_template[model[\"name\"]]=nb_found\n",
    "    dict_year_stats[year]={\"nb_lines\":nb_lines,\"found_models\":nb_found_template}\n",
    "    \n",
    "with open(file_path+\"wikidata_template_stats.json\", 'w', encoding='utf-8') as f:\n",
    "    json.dump(results, f, ensure_ascii=False, indent=4) \n",
    "    "
   ]
  },
  {
   "cell_type": "code",
   "execution_count": 83,
   "metadata": {},
   "outputs": [],
   "source": [
    "with open(file_path+\"wikidata_template_stats.json\") as json_file:\n",
    "    wikidata_template_stats = json.load(json_file)"
   ]
  },
  {
   "cell_type": "code",
   "execution_count": 90,
   "metadata": {},
   "outputs": [],
   "source": [
    "table_by_year=[[],[]]\n",
    "for y in wikidata_template_stats.keys():\n",
    "    table_by_year[0].append(y)\n",
    "    sum_=sum([wikidata_template_stats[y][\"models_count\"][m] for m in wikidata_template_stats[y][\"models_count\"].keys()])\n",
    "    table_by_year[1].append((int(sum_)/int(wikidata_template_stats[y][\"nb_lines\"])*100))"
   ]
  },
  {
   "cell_type": "code",
   "execution_count": 91,
   "metadata": {},
   "outputs": [
    {
     "data": {
      "image/png": "[encoded data removed]",
      "text/plain": [
       "<Figure size 432x288 with 1 Axes>"
      ]
     },
     "metadata": {
      "needs_background": "light"
     },
     "output_type": "display_data"
    }
   ],
   "source": [
    "import matplotlib.pyplot as plt\n",
    "fig = plt.figure()\n",
    "ax = fig.add_axes([0,0,1,1])\n",
    "ax.bar(table_by_year[0],table_by_year[1])\n",
    "plt.show()"
   ]
  },
  {
   "cell_type": "markdown",
   "metadata": {},
   "source": [
    "### Which is the most used infoboxes ?"
   ]
  },
  {
   "cell_type": "code",
   "execution_count": 93,
   "metadata": {},
   "outputs": [],
   "source": [
    "\n",
    "query='''SELECT ?model COUNT(?s) as ?nb  \n",
    "        FROM  <http://fr.dbpedia.org/graph/dbpedia_generic_article-templates> \n",
    "        WHERE {\n",
    "        VALUES ?model {'''+models+'''}\n",
    "        ?s <http://fr.dbpedia.org/property/wikiPageUsesTemplate> ?model\n",
    "        } GROUP BY ?model'''\n",
    "r = requests.post(endpoint2022, data = {'format': 'json', 'query': query})\n",
    "raw_data = r.json()\n",
    "\n"
   ]
  },
  {
   "cell_type": "code",
   "execution_count": 95,
   "metadata": {},
   "outputs": [],
   "source": [
    "model_count={d[\"model\"][\"value\"].replace(\"http://fr.dbpedia.org/resource/Modèle:\",\"\"):int(d[\"nb\"][\"value\"]) for d in raw_data['results']['bindings']}\n",
    "ordered=sorted(model_count.items(), key=lambda x: x[1], reverse=True)"
   ]
  },
  {
   "cell_type": "code",
   "execution_count": 103,
   "metadata": {},
   "outputs": [
    {
     "data": {
      "image/png": "[encoded data removed]",
      "text/plain": [
       "<Figure size 432x288 with 1 Axes>"
      ]
     },
     "metadata": {
      "needs_background": "light"
     },
     "output_type": "display_data"
    }
   ],
   "source": [
    "import numpy as np\n",
    "import matplotlib.pyplot as plt\n",
    "top_10=ordered[0:10]\n",
    "# sort in-place from highest to lowest\n",
    "top_10.sort(key=lambda x: x[1], reverse=True) \n",
    "# save the names and their respective scores separately\n",
    "# reverse the tuples to go from most frequent to least frequent \n",
    "model = [d[0] for d in top_10]\n",
    "nb = [d[1] for d in top_10]\n",
    "x_pos = np.arange(len(model)) \n",
    "\n",
    "plt.bar(x_pos, nb,align='center')\n",
    "plt.xticks(x_pos, model,rotation=90)\n",
    "plt.ylabel('Number of wikipedia pages using it')\n",
    "plt.show()\n"
   ]
  },
  {
   "cell_type": "markdown",
   "metadata": {},
   "source": [
    "### Have it an impact on classes ?\n"
   ]
  },
  {
   "cell_type": "code",
   "execution_count": 112,
   "metadata": {},
   "outputs": [],
   "source": [
    "query=\"SELECT  COUNT(?s) as ?nb  FROM  <http://fr.dbpedia.org/graph/dbpedia_generic_article-templates> WHERE { ?s <http://fr.dbpedia.org/property/wikiPageUsesTemplate> <http://fr.dbpedia.org/resource/Modèle:Infobox_Biographie2> }\"\n",
    "r = requests.get(endpoint2022, params = {'format': 'json', 'query': query})\n",
    "raw_data = r.json()\n",
    "nb_bio2=int(raw_data[\"results\"][\"bindings\"][0]['nb']['value'])\n"
   ]
  },
  {
   "cell_type": "code",
   "execution_count": 111,
   "metadata": {},
   "outputs": [
    {
     "name": "stdout",
     "output_type": "stream",
     "text": [
      "====>>>> NB OF BIOGRAPHIE ENTITIES  96\n",
      "====>>>> PART HAVING TODAY A TYPE  0.0003478828069793988\n"
     ]
    }
   ],
   "source": [
    "\n",
    "query1='''SELECT ?id ?o FROM <http://fr.dbpedia.org/graph/dbpedia_mappings_instance-types>  WHERE {\n",
    "?id rdf:type ?o.\n",
    "{SELECT ?id  FROM <http://fr.dbpedia.org/graph/dbpedia_generic_article-templates> WHERE { ?id ?p <http://fr.dbpedia.org/resource/Modèle:Infobox_Biographie2>}}\n",
    "}''' \n",
    "r = requests.get(endpoint2022, params = {'format': 'json', 'query': query1})\n",
    "raw_data = r.json()\n",
    "\n",
    "bio_class={}\n",
    "for r in raw_data[\"results\"][\"bindings\"]:\n",
    "    if(r[\"id\"][\"value\"] not in bio_class):\n",
    "        bio_class[r[\"id\"][\"value\"]]=[]\n",
    "    if(r[\"o\"][\"value\"]!='http://www.w3.org/2002/07/owl#Thing'):\n",
    "        bio_class[r[\"id\"][\"value\"]].append(r[\"o\"][\"value\"])\n",
    "\n",
    "count=len([bio_class[k] for k in bio_class.keys() if(len(bio_class[k])>0)])\n",
    "\n",
    "print(\"====>>>> NB OF BIOGRAPHIE ENTITIES \",count)\n",
    "print(\"====>>>> PART HAVING TODAY A TYPE \",count/nb_bio2)"
   ]
  },
  {
   "cell_type": "markdown",
   "metadata": {},
   "source": [
    "## Let's take focus on a sample"
   ]
  },
  {
   "cell_type": "raw",
   "metadata": {},
   "source": [
    "list_bio2=[]\n",
    "n=0\n",
    "range_=1000\n",
    "nb_loop=int(nb)//1000\n",
    "nbReste = int(nb)%1000\n",
    "if nbReste>0:\n",
    "    nb_loop=nb_loop+1 \n",
    "list_bio2=[]\n",
    "for i in range(nb_loop):\n",
    "    n=i*range_\n",
    "    end=n+range_\n",
    "    query=\"SELECT  ?s  FROM  <http://fr.dbpedia.org/graph/dbpedia_generic_article-templates> WHERE { ?s <http://fr.dbpedia.org/property/wikiPageUsesTemplate> <http://fr.dbpedia.org/resource/Modèle:Infobox_Biographie2> } GROUP BY ?s LIMIT \"+str(range_)+\" OFFSET \"+str(n)\n",
    "    print(i)\n",
    "    r = requests.get(endpoint2022, params = {'format': 'json', 'query': query})\n",
    "    raw_data = r.json()\n",
    "    for d in raw_data[\"results\"][\"bindings\"]:\n",
    "        list_bio2.append(d['s']['value'])\n",
    "\n",
    "with open(file_path+\"list_bio2.json\", 'w', encoding='utf-8') as f:\n",
    "    json.dump(list_bio2, f, ensure_ascii=False, indent=4) "
   ]
  },
  {
   "cell_type": "code",
   "execution_count": 121,
   "metadata": {},
   "outputs": [],
   "source": [
    "#We load the complete list of page that use the Infobox:Biographie2 template\n",
    "with open(file_path+\"list_bio2.json\") as json_file:\n",
    "    list_bio2 = json.load(json_file)"
   ]
  },
  {
   "cell_type": "markdown",
   "metadata": {},
   "source": [
    "We needed a solution for weighting authors : we used the click stream of the year 2021 \n",
    "https://meta.wikimedia.org/wiki/Research:Wikipedia_clickstream"
   ]
  },
  {
   "cell_type": "code",
   "execution_count": 139,
   "metadata": {},
   "outputs": [],
   "source": [
    "import csv \n",
    "weighted_bio={}\n",
    "for bio in list_bio2:\n",
    "    b= bio.replace(\"http://fr.dbpedia.org/resource/\",\"\")\n",
    "    weighted_bio[b]=0\n",
    "month=[\"01\",\"02\",\"03\",\"04\",\"05\",\"06\",\"07\",\"08\",\"09\",\"10\",\"11\",\"12\"]\n",
    "for m in month: \n",
    "    tsv_file = open(file_path+\"clickstream/clickstream-frwiki-2021-\"+m+\".tsv\")\n",
    "    read_tsv = csv.reader(tsv_file, delimiter=\"\\t\")\n",
    "    for row in read_tsv:\n",
    "        if(row[1] in weighted_bio.keys()):\n",
    "            weighted_bio[row[1]]=weighted_bio[row[1]]+int(row[3])\n",
    "      \n",
    "            \n",
    "\n",
    "weighted_bio2=sorted(weighted_bio.items(), key=lambda x: x[1], reverse=True)"
   ]
  },
  {
   "cell_type": "code",
   "execution_count": 148,
   "metadata": {},
   "outputs": [],
   "source": [
    "sample_size=int(len(list_bio2)*0.01)"
   ]
  },
  {
   "cell_type": "code",
   "execution_count": 149,
   "metadata": {},
   "outputs": [],
   "source": [
    "sample=weighted_bio2[0:sample_size]"
   ]
  },
  {
   "cell_type": "markdown",
   "metadata": {},
   "source": [
    "### What are the information given by Wikidata in term of properties ?"
   ]
  },
  {
   "cell_type": "markdown",
   "metadata": {},
   "source": [
    "We first load the list of what could be mapped in the Biographie2 template from wikidata and from tDBpedia ontologies "
   ]
  },
  {
   "cell_type": "code",
   "execution_count": 244,
   "metadata": {},
   "outputs": [],
   "source": [
    "import csv\n",
    "list_dbr=[]\n",
    "list_wdt=[]\n",
    "list_dbo=[]\n",
    "dbr_dbo_dict={}\n",
    "with open(file_path+'mapping_wikidata.csv', newline='') as f:\n",
    "    reader = csv.reader(f)\n",
    "    for row in reader:\n",
    "        row2=row[0].split(\";\")\n",
    "        dbr=row2[0]\n",
    "        while re.findall('\\s[a-z]', dbr):\n",
    "            m=re.search('\\s[a-z]', dbr)\n",
    "            dbr=dbr.replace(m.group(0),dbr[m.end()-1:m.end()].upper())\n",
    "                           \n",
    "        if(len(dbr)>0):\n",
    "            list_dbr.append('http://fr.dbpedia.org/property/'+dbr.replace(\" \",\"\"))\n",
    "        wdt=row2[1].replace(\" \",\"\")\n",
    "        if(len(wdt)>0):\n",
    "                list_wdt.append(wdt)\n",
    "        if(len(row2)>2 and row2[2].replace(\" \",\"\")!=\"\"):\n",
    "            dbo=row2[2].replace(\" \",\"\").replace(\"https\",\"http\")\n",
    "            if(len(dbo)>0):\n",
    "                list_dbo.append(dbo.replace(\"foaf:\",\"http://xmlns.com/foaf/0.1/\"))\n",
    "        if(len(dbr)>0 and len(row2)>2 and row2[2].replace(\" \",\"\")!=\"\"):\n",
    "            dbr_dbo_dict['http://fr.dbpedia.org/property/'+dbr.replace(\" \",\"\")]=dbo.replace(\"foaf:\",\"http://xmlns.com/foaf/0.1/\")\n",
    "        \n"
   ]
  },
  {
   "cell_type": "markdown",
   "metadata": {},
   "source": [
    "We request after that the wikidata_mappingbased-literals, containing wikidata properties mapped in the DBpedia ontology format and for comparison purpose we also get the raw infobox-properties for our sample"
   ]
  },
  {
   "cell_type": "raw",
   "metadata": {},
   "source": [
    "prop_by_bio2={}\n",
    "for bio in sample:\n",
    "    name=bio[0]\n",
    "    print(name)\n",
    "    query1='''SELECT DISTINCT(?b) FROM <http://fr.dbpedia.org/graph/dbpedia_wikidata_mappingbased-literals> WHERE {\n",
    "    ?wikidata ?b ?c.\n",
    "    {SELECT ?wikidata  FROM <http://fr.dbpedia.org/graph/dbpedia_wikidata_sameas-all-wikis> WHERE {\n",
    "    ?wikidata owl:sameAs <http://fr.dbpedia.org/resource/'''+name+'''>\n",
    "      } }\n",
    "    }'''\n",
    "    r1 = requests.get(endpoint2022, params = {'format': 'json', 'query': query1})\n",
    "    raw_data1 = r1.json()\n",
    "\n",
    "    query2='''SELECT DISTINCT(?p) as ?prop FROM <http://fr.dbpedia.org/graph/dbpedia_generic_infobox-properties> WHERE {\n",
    "     <http://fr.dbpedia.org/resource/'''+name+'''> ?p ?o \n",
    "    }\n",
    "    '''\n",
    "    r2 = requests.get(endpoint2022, params = {'format': 'json', 'query': query2})\n",
    "    raw_data2 = r2.json()\n",
    "    res_wikidata=[r[\"b\"][\"value\"] for r in raw_data1[\"results\"][\"bindings\"]]\n",
    "    res_dbpedia=[r[\"prop\"][\"value\"] for r in raw_data2[\"results\"][\"bindings\"]]\n",
    "    prop_by_bio2[name]={\"dbpedia_prop\":res_dbpedia,\"wikidata_prop\":res_wikidata}\n",
    "\n",
    "with open(file_path+\"prop_by_bio2.json\", 'w', encoding='utf-8') as f:\n",
    "    json.dump(prop_by_bio2, f, ensure_ascii=False, indent=4) "
   ]
  },
  {
   "cell_type": "code",
   "execution_count": null,
   "metadata": {},
   "outputs": [],
   "source": [
    "#We load the complete list of page that use the Infobox:Biographie2 template\n",
    "with open(file_path+\"prop_by_bio2.json\") as json_file:\n",
    "    prop_by_bio2 = json.load(json_file)"
   ]
  },
  {
   "cell_type": "code",
   "execution_count": 225,
   "metadata": {},
   "outputs": [
    {
     "data": {
      "text/plain": [
       "[Text(1, 0, 'dbpedia'), Text(2, 0, 'wikidata')]"
      ]
     },
     "execution_count": 225,
     "metadata": {},
     "output_type": "execute_result"
    },
    {
     "data": {
      "image/png": "[encoded data removed]",
      "text/plain": [
       "<Figure size 432x288 with 1 Axes>"
      ]
     },
     "metadata": {
      "needs_background": "light"
     },
     "output_type": "display_data"
    }
   ],
   "source": [
    "len_prop={\"dbpedia\":[],\"wikidata\":[]}\n",
    "for k in prop_by_bio2.keys():\n",
    "    len_prop[\"dbpedia\"].append(len(prop_by_bio2[k][\"dbpedia_prop\"]))\n",
    "    len_prop[\"wikidata\"].append(len(prop_by_bio2[k][\"wikidata_prop\"]))\n",
    "    \n",
    "fig, ax = plt.subplots()\n",
    "ax.boxplot(len_prop.values())\n",
    "ax.set_xticklabels(len_prop.keys())"
   ]
  },
  {
   "cell_type": "markdown",
   "metadata": {},
   "source": [
    "That is not surprising to get more information from the raw infobox properties, but we also note the poor quality of what is returned from wikidata"
   ]
  },
  {
   "cell_type": "code",
   "execution_count": 229,
   "metadata": {},
   "outputs": [
    {
     "data": {
      "text/plain": [
       "{'whiskers': [<matplotlib.lines.Line2D at 0x7fe87976bb20>,\n",
       "  <matplotlib.lines.Line2D at 0x7fe87976b5e0>],\n",
       " 'caps': [<matplotlib.lines.Line2D at 0x7fe87976be50>,\n",
       "  <matplotlib.lines.Line2D at 0x7fe879740df0>],\n",
       " 'boxes': [<matplotlib.lines.Line2D at 0x7fe87976b340>],\n",
       " 'medians': [<matplotlib.lines.Line2D at 0x7fe879740b50>],\n",
       " 'fliers': [<matplotlib.lines.Line2D at 0x7fe879740c40>],\n",
       " 'means': []}"
      ]
     },
     "execution_count": 229,
     "metadata": {},
     "output_type": "execute_result"
    },
    {
     "data": {
      "image/png": "[encoded data removed]",
      "text/plain": [
       "<Figure size 432x288 with 1 Axes>"
      ]
     },
     "metadata": {
      "needs_background": "light"
     },
     "output_type": "display_data"
    }
   ],
   "source": [
    "fig1, ax1 = plt.subplots()\n",
    "ax1.set_title('Basic Plot')\n",
    "ax1.boxplot(len_prop[\"dbpedia\"],vert=False)"
   ]
  },
  {
   "cell_type": "code",
   "execution_count": 230,
   "metadata": {},
   "outputs": [
    {
     "data": {
      "text/plain": [
       "{'whiskers': [<matplotlib.lines.Line2D at 0x7fe8714d50a0>,\n",
       "  <matplotlib.lines.Line2D at 0x7fe8714d5400>],\n",
       " 'caps': [<matplotlib.lines.Line2D at 0x7fe8714d5760>,\n",
       "  <matplotlib.lines.Line2D at 0x7fe8714d5ac0>],\n",
       " 'boxes': [<matplotlib.lines.Line2D at 0x7fe8714c8d00>],\n",
       " 'medians': [<matplotlib.lines.Line2D at 0x7fe8714d5e20>],\n",
       " 'fliers': [<matplotlib.lines.Line2D at 0x7fe8714e21c0>],\n",
       " 'means': []}"
      ]
     },
     "execution_count": 230,
     "metadata": {},
     "output_type": "execute_result"
    },
    {
     "data": {
      "image/png": "[encoded data removed]",
      "text/plain": [
       "<Figure size 432x288 with 1 Axes>"
      ]
     },
     "metadata": {
      "needs_background": "light"
     },
     "output_type": "display_data"
    }
   ],
   "source": [
    "fig1, ax1 = plt.subplots()\n",
    "ax1.set_title('Basic Plot')\n",
    "ax1.boxplot(len_prop[\"wikidata\"],vert=False)"
   ]
  },
  {
   "cell_type": "markdown",
   "metadata": {},
   "source": [
    "Ok let's focus on what could be mapped and getted from the Biographie2 infobox"
   ]
  },
  {
   "cell_type": "code",
   "execution_count": 241,
   "metadata": {},
   "outputs": [],
   "source": [
    "dbpedia_inBio2={}\n",
    "for k in prop_by_bio2.keys():\n",
    "    dbpedia_inBio2[k]=[]\n",
    "    for prop in prop_by_bio2[k][\"dbpedia_prop\"]:\n",
    "        if(prop in list_dbr):\n",
    "            dbpedia_inBio2[k].append(prop)"
   ]
  },
  {
   "cell_type": "code",
   "execution_count": 238,
   "metadata": {},
   "outputs": [
    {
     "data": {
      "text/plain": [
       "[Text(1, 0, 'dbpedia2'), Text(2, 0, 'wikidata')]"
      ]
     },
     "execution_count": 238,
     "metadata": {},
     "output_type": "execute_result"
    },
    {
     "data": {
      "image/png": "[encoded data removed]",
      "text/plain": [
       "<Figure size 432x288 with 1 Axes>"
      ]
     },
     "metadata": {
      "needs_background": "light"
     },
     "output_type": "display_data"
    }
   ],
   "source": [
    "len_prop={\"dbpedia2\":[],\"wikidata\":[]}\n",
    "for k in prop_by_bio2.keys():\n",
    "    len_prop[\"dbpedia2\"].append(len(dbpedia_inBio2[k]))\n",
    "    len_prop[\"wikidata\"].append(len(prop_by_bio2[k][\"wikidata_prop\"]))\n",
    "    \n",
    "fig, ax = plt.subplots()\n",
    "ax.boxplot(len_prop.values())\n",
    "ax.set_xticklabels(len_prop.keys())"
   ]
  },
  {
   "cell_type": "markdown",
   "metadata": {},
   "source": [
    "Ok DBpedia prop could be mapped but which are the new properties that don't give wikidata ?"
   ]
  },
  {
   "cell_type": "code",
   "execution_count": 252,
   "metadata": {},
   "outputs": [],
   "source": [
    "part_of_new=[]\n",
    "prop_bio_dbpedia_bio2={}\n",
    "for k in prop_by_bio2.keys():\n",
    "    prop_bio_dbpedia_bio2[k]={\"new\":[],\"in_wiki\":[]}\n",
    "    for prop in prop_by_bio2[k][\"dbpedia_prop\"]:\n",
    "        if(prop in dbr_dbo_dict.keys()):\n",
    "            if(dbr_dbo_dict[prop] in prop_by_bio2[k][\"wikidata_prop\"]):\n",
    "                prop_bio_dbpedia_bio2[k][\"in_wiki\"].append(prop)\n",
    "            else:\n",
    "                prop_bio_dbpedia_bio2[k][\"new\"].append(prop)\n",
    "    sum_=len(prop_bio_dbpedia_bio2[k][\"new\"])+len(prop_bio_dbpedia_bio2[k][\"in_wiki\"])\n",
    "    if(sum_!=0):\n",
    "        part_of_new.append(len(prop_bio_dbpedia_bio2[k][\"new\"])/sum_*100)\n",
    "            "
   ]
  },
  {
   "cell_type": "code",
   "execution_count": 256,
   "metadata": {},
   "outputs": [
    {
     "data": {
      "text/plain": [
       "(array([7.000e+00, 0.000e+00, 0.000e+00, 0.000e+00, 1.000e+00, 2.200e+01,\n",
       "        4.400e+01, 6.900e+01, 2.110e+02, 1.019e+03]),\n",
       " array([  0.,  10.,  20.,  30.,  40.,  50.,  60.,  70.,  80.,  90., 100.]),\n",
       " <BarContainer object of 10 artists>)"
      ]
     },
     "execution_count": 256,
     "metadata": {},
     "output_type": "execute_result"
    },
    {
     "data": {
      "image/png": "[encoded data removed]",
      "text/plain": [
       "<Figure size 432x288 with 1 Axes>"
      ]
     },
     "metadata": {
      "needs_background": "light"
     },
     "output_type": "display_data"
    }
   ],
   "source": [
    "import matplotlib.pyplot as plt\n",
    "import seaborn as sns\n",
    "\n",
    "# matplotlib histogram\n",
    "plt.hist(part_of_new, color = 'blue', edgecolor = 'black')"
   ]
  }
 ],
 "metadata": {
  "kernelspec": {
   "display_name": "Python 3",
   "language": "python",
   "name": "python3"
  },
  "language_info": {
   "codemirror_mode": {
    "name": "ipython",
    "version": 3
   },
   "file_extension": ".py",
   "mimetype": "text/x-python",
   "name": "python",
   "nbconvert_exporter": "python",
   "pygments_lexer": "ipython3",
   "version": "3.8.8"
  }
 },
 "nbformat": 4,
 "nbformat_minor": 4
}
