{
 "cells": [
  {
   "cell_type": "markdown",
   "id": "565f978e",
   "metadata": {},
   "source": [
    "# Evaluating the new Wikidata Infoboxes"
   ]
  },
  {
   "cell_type": "markdown",
   "id": "be744ee1",
   "metadata": {},
   "source": [
    "## 1. Getting some basic informations"
   ]
  },
  {
   "cell_type": "markdown",
   "id": "73d3271b",
   "metadata": {},
   "source": [
    "Before all, let remind us how many different wikipedia pages we are following\n",
    "* data : page ids fr dumps  https://databus.dbpedia.org/dbpedia/generic/page/"
   ]
  },
  {
   "cell_type": "code",
   "execution_count": 7,
   "id": "03ff43bf",
   "metadata": {},
   "outputs": [],
   "source": [
    "from os import listdir\n",
    "import subprocess\n",
    "import pandas as pd\n",
    "from subprocess import Popen, PIPE\n",
    "file_id=\"/user/cringwal/home/Desktop/DBpedia_tests/AbstractEval/dbpedia_generic_page_2021.12.01_page_lang=fr_ids.ttl\"\n",
    "count_total=\"\"\n",
    "\n",
    "bashCmd = [\"wc\", \"-l\",file_id]\n",
    "process = subprocess.Popen(bashCmd, stdout=subprocess.PIPE)\n",
    "output, error = process.communicate()\n",
    "nb_lines=int(output.split()[0])"
   ]
  },
  {
   "cell_type": "code",
   "execution_count": 244,
   "id": "241a74f2",
   "metadata": {},
   "outputs": [
    {
     "name": "stdout",
     "output_type": "stream",
     "text": [
      "4817807\n"
     ]
    }
   ],
   "source": [
    "print(nb_lines)"
   ]
  },
  {
   "cell_type": "markdown",
   "id": "9ff8612e",
   "metadata": {},
   "source": [
    "We wanted to know also which infoboxes are mapped, so we download the mappings from the DIEF github\n"
   ]
  },
  {
   "cell_type": "code",
   "execution_count": 21,
   "id": "0531c768",
   "metadata": {},
   "outputs": [],
   "source": [
    "import requests \n",
    "# We get the mapping file of DBpedia FR\n",
    "url_mapping=\"https://raw.githubusercontent.com/dbpedia/extraction-framework/master/mappings/Mapping_fr.xml\"\n",
    "r = requests.get(url_mapping)\n",
    "xml_string=r.text\n",
    "\n"
   ]
  },
  {
   "cell_type": "markdown",
   "id": "cc9ce10c",
   "metadata": {},
   "source": [
    "We looking for every infoboxes name in the file"
   ]
  },
  {
   "cell_type": "code",
   "execution_count": 210,
   "id": "8242165a",
   "metadata": {},
   "outputs": [],
   "source": [
    "import re\n",
    "list_mapped=[]\n",
    "for m in re.finditer(r'<title>(.*)<\\/title>', xml_string):\n",
    "        list_mapped.append(m.group(1).replace(\"Mapping fr:\",\"Modèle:\").replace(\" \",\"_\"))"
   ]
  },
  {
   "cell_type": "markdown",
   "id": "14d9bf4f",
   "metadata": {},
   "source": [
    "## 2. The Infoboxes pointed in the Wikipedia Infobox help section"
   ]
  },
  {
   "cell_type": "markdown",
   "id": "f36bd282",
   "metadata": {},
   "source": [
    "It exists today three types of infoboxes : \n",
    "* the V2 : https://fr.wikipedia.org/wiki/Cat%C3%A9gorie:Mod%C3%A8le_infobox_V2\n",
    "* the V3 : https://fr.wikipedia.org/wiki/Cat%C3%A9gorie:Mod%C3%A8le_infobox_V3\n",
    "* the Lua one : https://fr.wikipedia.org/wiki/Cat%C3%A9gorie:Mod%C3%A8le_infobox_Lua\n",
    "\n",
    "I listed every of these template in a csv file,\n",
    "for every one of these we give the version (V2, V3 or Lua generated) and we say if these are dynamic or not. \n",
    "\n",
    "* We looking after it in the [data dumps availables on the databus](https://databus.dbpedia.org/dbpedia/generic/article-templates/) if theses template are used and how many times :"
   ]
  },
  {
   "cell_type": "raw",
   "id": "7d6b765c",
   "metadata": {},
   "source": [
    "import csv\n",
    "\n",
    "file_path=\"/user/cringwal/home/Desktop/DBpedia_tests/WikidataEval/\"\n",
    "list_years=[\"2016\",\"2019\",\"2020\",\"2021\"]\n",
    "file_path2=\"/user/cringwal/home/Desktop/DBpedia_tests/WikidataEval/templates_datasets/\"\n",
    "\n",
    "\n",
    "with open(file_path+'infobox_list_complete13032022.csv', newline='') as f:\n",
    "    reader = csv.reader(f, delimiter='\\t', quotechar='\"')\n",
    "    next(reader)\n",
    "    for row in reader:\n",
    "        current=row\n",
    "        corrected=row[0].replace(\"Modèle:\",\"\").replace(\"_\",\" \")\n",
    "        ## Look if this infobox is already mapped\n",
    "        if corrected+\"</title>\" in xml_string:\n",
    "            current.append(1)\n",
    "        else:\n",
    "            current.append(0)\n",
    "        for year in list_years:\n",
    "            ## Resource linked to the current infobox\n",
    "            pattern='<http://fr.dbpedia.org/resource/'+row[0]+'>'\n",
    "            ## Find all occurences\n",
    "            process1 = subprocess.Popen([\"grep\", \"-o\",pattern,file_path2+year+\"_article-templates_lang=fr.ttl\"], stdout=PIPE)\n",
    "            ## Count them\n",
    "            process2 = subprocess.Popen([\"wc\",\"-l\"],  stdin=process1.stdout,stdout=PIPE)\n",
    "            output, error = process2.communicate()\n",
    "            if(len(output)>0):\n",
    "                nb_found=int(output.split()[0])    \n",
    "                current.append(nb_found)\n",
    "            else:\n",
    "                current.append(0)\n",
    "        \n",
    "        model_count.append(current)\n",
    "        print(current)"
   ]
  },
  {
   "cell_type": "raw",
   "id": "e61c3c9c",
   "metadata": {},
   "source": [
    "### SAVE it as a CSV file\n",
    "df = pd.DataFrame(model_count, columns = ['NameModel', 'version', 'type','mapped','nb2016','nb2019','nb2020','nb2021'])\n",
    "df.to_csv('/user/cringwal/home/Desktop/DBpedia_tests/WikidataEval/model_stats.csv') "
   ]
  },
  {
   "cell_type": "markdown",
   "id": "8148a3cb",
   "metadata": {},
   "source": [
    "We found some duplicate, it means that the list are not really up-to-date. So we cleaned manually these rows :"
   ]
  },
  {
   "cell_type": "raw",
   "id": "fe010001",
   "metadata": {},
   "source": [
    "res=df['NameModel'].value_counts()"
   ]
  },
  {
   "cell_type": "raw",
   "id": "1bc18966",
   "metadata": {},
   "source": [
    "res[res==2]"
   ]
  },
  {
   "cell_type": "code",
   "execution_count": 236,
   "id": "fa0d54ca",
   "metadata": {},
   "outputs": [],
   "source": [
    "df=pd.read_csv('/user/cringwal/home/Desktop/DBpedia_tests/WikidataEval/model_stats_clean.csv', index_col=0) "
   ]
  },
  {
   "cell_type": "markdown",
   "id": "df73b4cd",
   "metadata": {},
   "source": [
    "Let's get a look on the final table"
   ]
  },
  {
   "cell_type": "code",
   "execution_count": 237,
   "id": "6f4464fa",
   "metadata": {},
   "outputs": [
    {
     "data": {
      "text/html": [
       "<div>\n",
       "<style scoped>\n",
       "    .dataframe tbody tr th:only-of-type {\n",
       "        vertical-align: middle;\n",
       "    }\n",
       "\n",
       "    .dataframe tbody tr th {\n",
       "        vertical-align: top;\n",
       "    }\n",
       "\n",
       "    .dataframe thead th {\n",
       "        text-align: right;\n",
       "    }\n",
       "</style>\n",
       "<table border=\"1\" class=\"dataframe\">\n",
       "  <thead>\n",
       "    <tr style=\"text-align: right;\">\n",
       "      <th></th>\n",
       "      <th>NameModel</th>\n",
       "      <th>version</th>\n",
       "      <th>type</th>\n",
       "      <th>mapped</th>\n",
       "      <th>nb2016</th>\n",
       "      <th>nb2019</th>\n",
       "      <th>nb2020</th>\n",
       "      <th>nb2021</th>\n",
       "    </tr>\n",
       "  </thead>\n",
       "  <tbody>\n",
       "    <tr>\n",
       "      <th>0</th>\n",
       "      <td>Modèle:Infobox_Abbaye_cistercienne</td>\n",
       "      <td>v2</td>\n",
       "      <td>static</td>\n",
       "      <td>0</td>\n",
       "      <td>507</td>\n",
       "      <td>573</td>\n",
       "      <td>650</td>\n",
       "      <td>748</td>\n",
       "    </tr>\n",
       "    <tr>\n",
       "      <th>1</th>\n",
       "      <td>Modèle:Infobox_Adhésion_à_l'Union_européenne</td>\n",
       "      <td>v2</td>\n",
       "      <td>static</td>\n",
       "      <td>0</td>\n",
       "      <td>42</td>\n",
       "      <td>62</td>\n",
       "      <td>43</td>\n",
       "      <td>43</td>\n",
       "    </tr>\n",
       "    <tr>\n",
       "      <th>2</th>\n",
       "      <td>Modèle:Infobox_Aéroport</td>\n",
       "      <td>v2</td>\n",
       "      <td>static</td>\n",
       "      <td>1</td>\n",
       "      <td>2465</td>\n",
       "      <td>3696</td>\n",
       "      <td>3992</td>\n",
       "      <td>4145</td>\n",
       "    </tr>\n",
       "    <tr>\n",
       "      <th>3</th>\n",
       "      <td>Modèle:Infobox_Aérostat</td>\n",
       "      <td>v2</td>\n",
       "      <td>static</td>\n",
       "      <td>0</td>\n",
       "      <td>58</td>\n",
       "      <td>88</td>\n",
       "      <td>61</td>\n",
       "      <td>67</td>\n",
       "    </tr>\n",
       "    <tr>\n",
       "      <th>4</th>\n",
       "      <td>Modèle:Infobox_Affaire_criminelle</td>\n",
       "      <td>v2</td>\n",
       "      <td>static</td>\n",
       "      <td>0</td>\n",
       "      <td>101</td>\n",
       "      <td>224</td>\n",
       "      <td>288</td>\n",
       "      <td>338</td>\n",
       "    </tr>\n",
       "    <tr>\n",
       "      <th>...</th>\n",
       "      <td>...</td>\n",
       "      <td>...</td>\n",
       "      <td>...</td>\n",
       "      <td>...</td>\n",
       "      <td>...</td>\n",
       "      <td>...</td>\n",
       "      <td>...</td>\n",
       "      <td>...</td>\n",
       "    </tr>\n",
       "    <tr>\n",
       "      <th>801</th>\n",
       "      <td>Modèle:Bases_sport</td>\n",
       "      <td>links</td>\n",
       "      <td>wikidata</td>\n",
       "      <td>0</td>\n",
       "      <td>0</td>\n",
       "      <td>80161</td>\n",
       "      <td>103410</td>\n",
       "      <td>115172</td>\n",
       "    </tr>\n",
       "    <tr>\n",
       "      <th>802</th>\n",
       "      <td>Modèle:Bases_tourisme</td>\n",
       "      <td>links</td>\n",
       "      <td>wikidata</td>\n",
       "      <td>0</td>\n",
       "      <td>0</td>\n",
       "      <td>1597</td>\n",
       "      <td>1888</td>\n",
       "      <td>1575</td>\n",
       "    </tr>\n",
       "    <tr>\n",
       "      <th>803</th>\n",
       "      <td>Modèle:Bases_transport</td>\n",
       "      <td>links</td>\n",
       "      <td>wikidata</td>\n",
       "      <td>0</td>\n",
       "      <td>0</td>\n",
       "      <td>461</td>\n",
       "      <td>485</td>\n",
       "      <td>435</td>\n",
       "    </tr>\n",
       "    <tr>\n",
       "      <th>804</th>\n",
       "      <td>Modèle:Bases_vie_publique</td>\n",
       "      <td>links</td>\n",
       "      <td>wikidata</td>\n",
       "      <td>0</td>\n",
       "      <td>0</td>\n",
       "      <td>8366</td>\n",
       "      <td>12906</td>\n",
       "      <td>10540</td>\n",
       "    </tr>\n",
       "    <tr>\n",
       "      <th>805</th>\n",
       "      <td>Modèle:Bases_vivant</td>\n",
       "      <td>links</td>\n",
       "      <td>wikidata</td>\n",
       "      <td>0</td>\n",
       "      <td>0</td>\n",
       "      <td>456</td>\n",
       "      <td>1563</td>\n",
       "      <td>1963</td>\n",
       "    </tr>\n",
       "  </tbody>\n",
       "</table>\n",
       "<p>800 rows × 8 columns</p>\n",
       "</div>"
      ],
      "text/plain": [
       "                                        NameModel version      type  mapped  \\\n",
       "0              Modèle:Infobox_Abbaye_cistercienne      v2    static       0   \n",
       "1    Modèle:Infobox_Adhésion_à_l'Union_européenne      v2    static       0   \n",
       "2                         Modèle:Infobox_Aéroport      v2    static       1   \n",
       "3                         Modèle:Infobox_Aérostat      v2    static       0   \n",
       "4               Modèle:Infobox_Affaire_criminelle      v2    static       0   \n",
       "..                                            ...     ...       ...     ...   \n",
       "801                            Modèle:Bases_sport   links  wikidata       0   \n",
       "802                         Modèle:Bases_tourisme   links  wikidata       0   \n",
       "803                        Modèle:Bases_transport   links  wikidata       0   \n",
       "804                     Modèle:Bases_vie_publique   links  wikidata       0   \n",
       "805                           Modèle:Bases_vivant   links  wikidata       0   \n",
       "\n",
       "     nb2016  nb2019  nb2020  nb2021  \n",
       "0       507     573     650     748  \n",
       "1        42      62      43      43  \n",
       "2      2465    3696    3992    4145  \n",
       "3        58      88      61      67  \n",
       "4       101     224     288     338  \n",
       "..      ...     ...     ...     ...  \n",
       "801       0   80161  103410  115172  \n",
       "802       0    1597    1888    1575  \n",
       "803       0     461     485     435  \n",
       "804       0    8366   12906   10540  \n",
       "805       0     456    1563    1963  \n",
       "\n",
       "[800 rows x 8 columns]"
      ]
     },
     "execution_count": 237,
     "metadata": {},
     "output_type": "execute_result"
    }
   ],
   "source": [
    "df"
   ]
  },
  {
   "cell_type": "code",
   "execution_count": 241,
   "id": "75d217b7",
   "metadata": {},
   "outputs": [
    {
     "data": {
      "text/plain": [
       "0    698\n",
       "1    102\n",
       "Name: mapped, dtype: int64"
      ]
     },
     "execution_count": 241,
     "metadata": {},
     "output_type": "execute_result"
    }
   ],
   "source": [
    "df['mapped'].value_counts()"
   ]
  },
  {
   "cell_type": "markdown",
   "id": "fd0ff1d7",
   "metadata": {},
   "source": [
    "Only 102 infoboxes are mapped... Where are other the infoboxes mapped by the DBpedia community ? "
   ]
  },
  {
   "cell_type": "markdown",
   "id": "44da3c1b",
   "metadata": {},
   "source": [
    "##  3. Back on the mapped infobox"
   ]
  },
  {
   "cell_type": "markdown",
   "id": "d61a19e7",
   "metadata": {},
   "source": [
    "What's about the mapped infobox ? Are they all the infoboxes listed by community ? "
   ]
  },
  {
   "cell_type": "code",
   "execution_count": 219,
   "id": "326aefd2",
   "metadata": {},
   "outputs": [],
   "source": [
    "col_one_list=df['NameModel'].tolist()\n",
    "only_in_mapping=set(list_mapped).difference(set(col_one_list))"
   ]
  },
  {
   "cell_type": "code",
   "execution_count": 249,
   "id": "62736c2f",
   "metadata": {},
   "outputs": [
    {
     "name": "stdout",
     "output_type": "stream",
     "text": [
      "230  infoboxes mapped\n",
      "128  mapped not in the list given on the Wikipedia help guide\n"
     ]
    }
   ],
   "source": [
    "print(len(list_mapped),\" infoboxes mapped\")\n",
    "print(len(only_in_mapping),\" mapped not in the list given on the Wikipedia help guide\")\n"
   ]
  },
  {
   "cell_type": "markdown",
   "id": "88407181",
   "metadata": {},
   "source": [
    "Are theses mapped infoboxes still giving data ? We check the dump file..."
   ]
  },
  {
   "cell_type": "code",
   "execution_count": null,
   "id": "d2eb49df",
   "metadata": {},
   "outputs": [],
   "source": [
    "OIM_tab=[]\n",
    "list_years=[\"2016\",\"2019\",\"2020\",\"2021\"]\n",
    "file_path2=\"/user/cringwal/home/Desktop/DBpedia_tests/WikidataEval/templates_datasets/\"\n",
    "\n",
    "for model in only_in_mapping:\n",
    "        current=[model,\"undefined\",\"undefined\",1]\n",
    "        for year in list_years:\n",
    "            pattern='<http://fr.dbpedia.org/resource/'+corrected+'>'\n",
    "            process1 = subprocess.Popen([\"grep\", \"-o\",pattern,file_path2+year+\"_article-templates_lang=fr.ttl\"], stdout=PIPE)\n",
    "            process2 = subprocess.Popen([\"wc\",\"-l\"],  stdin=process1.stdout,stdout=PIPE)\n",
    "            output, error = process2.communicate()\n",
    "            if(len(output)>0):\n",
    "                nb_found=int(output.split()[0])    \n",
    "                current.append(nb_found)\n",
    "            else:\n",
    "                current.append(0)\n",
    "        \n",
    "        OIM_tab.append(current)\n",
    "        print(current)"
   ]
  },
  {
   "cell_type": "code",
   "execution_count": 222,
   "id": "364269ec",
   "metadata": {},
   "outputs": [],
   "source": [
    "\n",
    "dfOIM_tab = pd.DataFrame(OIM_tab, columns = ['NameModel', 'version', 'type','mapped','nb2016','nb2019','nb2020','nb2021'])\n",
    "dfOIM_tab.to_csv('/user/cringwal/home/Desktop/DBpedia_tests/WikidataEval/model_OIM_stats.csv') "
   ]
  },
  {
   "cell_type": "markdown",
   "id": "ce1d0ef3",
   "metadata": {},
   "source": [
    "===> Any of these were found in the datadump : they are not use today !"
   ]
  },
  {
   "cell_type": "markdown",
   "id": "f4db1e10",
   "metadata": {},
   "source": [
    "### 4. Focus on the infobox list given by the Wikipedia help guide"
   ]
  },
  {
   "cell_type": "code",
   "execution_count": 251,
   "id": "fa6272c5",
   "metadata": {},
   "outputs": [],
   "source": [
    "res1=df.groupby(['type']).sum()"
   ]
  },
  {
   "cell_type": "code",
   "execution_count": 252,
   "id": "f54f93fc",
   "metadata": {},
   "outputs": [
    {
     "data": {
      "text/html": [
       "<div>\n",
       "<style scoped>\n",
       "    .dataframe tbody tr th:only-of-type {\n",
       "        vertical-align: middle;\n",
       "    }\n",
       "\n",
       "    .dataframe tbody tr th {\n",
       "        vertical-align: top;\n",
       "    }\n",
       "\n",
       "    .dataframe thead th {\n",
       "        text-align: right;\n",
       "    }\n",
       "</style>\n",
       "<table border=\"1\" class=\"dataframe\">\n",
       "  <thead>\n",
       "    <tr style=\"text-align: right;\">\n",
       "      <th></th>\n",
       "      <th>nb2021</th>\n",
       "    </tr>\n",
       "    <tr>\n",
       "      <th>type</th>\n",
       "      <th></th>\n",
       "    </tr>\n",
       "  </thead>\n",
       "  <tbody>\n",
       "    <tr>\n",
       "      <th>static</th>\n",
       "      <td>0.097548</td>\n",
       "    </tr>\n",
       "    <tr>\n",
       "      <th>wikidata</th>\n",
       "      <td>0.320708</td>\n",
       "    </tr>\n",
       "  </tbody>\n",
       "</table>\n",
       "</div>"
      ],
      "text/plain": [
       "            nb2021\n",
       "type              \n",
       "static    0.097548\n",
       "wikidata  0.320708"
      ]
     },
     "execution_count": 252,
     "metadata": {},
     "output_type": "execute_result"
    }
   ],
   "source": [
    "df.groupby(['type']).sum()[[\"nb2021\"]]/nb_lines"
   ]
  },
  {
   "cell_type": "markdown",
   "id": "a462c761",
   "metadata": {},
   "source": [
    "===> 33 % of template are about infoboxes, others are simple wiki tags"
   ]
  },
  {
   "cell_type": "code",
   "execution_count": 239,
   "id": "c82c0b48",
   "metadata": {},
   "outputs": [
    {
     "data": {
      "text/plain": [
       "<AxesSubplot:>"
      ]
     },
     "execution_count": 239,
     "metadata": {},
     "output_type": "execute_result"
    },
    {
     "data": {
      "image/png": "[encoded data removed]",
      "text/plain": [
       "<Figure size 432x288 with 1 Axes>"
      ]
     },
     "metadata": {
      "needs_background": "light"
     },
     "output_type": "display_data"
    }
   ],
   "source": [
    "res1[[\"nb2016\",\"nb2019\",\"nb2020\",\"nb2021\"]].transpose().plot.bar()"
   ]
  },
  {
   "cell_type": "markdown",
   "id": "477603c5",
   "metadata": {},
   "source": [
    "Ok the situation is quite clear, since 2016, more and more infoboxes are dynamic."
   ]
  },
  {
   "cell_type": "code",
   "execution_count": 240,
   "id": "84f76e65",
   "metadata": {},
   "outputs": [
    {
     "data": {
      "text/plain": [
       "<AxesSubplot:>"
      ]
     },
     "execution_count": 240,
     "metadata": {},
     "output_type": "execute_result"
    },
    {
     "data": {
      "image/png": "[encoded data removed]",
      "text/plain": [
       "<Figure size 432x288 with 1 Axes>"
      ]
     },
     "metadata": {
      "needs_background": "light"
     },
     "output_type": "display_data"
    }
   ],
   "source": [
    "df.groupby(['mapped']).sum().transpose().plot.bar()"
   ]
  },
  {
   "cell_type": "markdown",
   "id": "71f4b8d5",
   "metadata": {},
   "source": [
    "But have the Wikidata infobox pages a type ?"
   ]
  },
  {
   "cell_type": "markdown",
   "id": "64fec6b1",
   "metadata": {},
   "source": [
    "* We notice that the number of wikipedia page in 2016, mapped was superior of the not mapped wikipedia pages.\n",
    "* In 2020 the half of the wikipedia pages were out of the focus. \n",
    "* Today we have wikipedia pages out of our focus than pages followed...\n",
    "* We could also underline an general increase of wikipages in any case "
   ]
  },
  {
   "cell_type": "markdown",
   "id": "eeb7c074",
   "metadata": {},
   "source": [
    "### 4. Type and dynamic infobox"
   ]
  },
  {
   "cell_type": "code",
   "execution_count": 321,
   "id": "e8a61b87",
   "metadata": {},
   "outputs": [],
   "source": [
    "df_wd=df[(df['type']==\"wikidata\")  & (df['NameModel'].str.contains(\"Infobox\"))]\n",
    "wd_models=df4.sort_values(by=['nb2021'],ascending=False)[\"NameModel\"].tolist()\n",
    "wd_models_nb_typed={}"
   ]
  },
  {
   "cell_type": "raw",
   "id": "4fc8c428",
   "metadata": {},
   "source": [
    "for m in wd_models:\n",
    "    if m not in wd_models_nb_typed.keys():\n",
    "        endpoint2022=\"http://prod-dbpedia.inria.fr/sparql\"\n",
    "        query1='''SELECT COUNT( DISTINCT(?id)) as ?nb FROM <http://fr.dbpedia.org/graph/dbpedia_mappings_instance-types>  WHERE {\n",
    "        ?id rdf:type ?o.\n",
    "        {SELECT ?id  FROM <http://fr.dbpedia.org/graph/dbpedia_generic_article-templates> \n",
    "        WHERE { ?id ?p <http://fr.dbpedia.org/resource/'''+m+'''>}}.\n",
    "        FILTER(?o !=  <http://www.w3.org/2002/07/owl#Thing>)\n",
    "        } ''' \n",
    "        r = requests.get(endpoint2022, params = {'format': 'json', 'query': query1})\n",
    "        raw_data = r.json()\n",
    "        count=raw_data[\"results\"][\"bindings\"][0][\"nb\"][\"value\"]\n",
    "        wd_models_nb_typed[m]=count\n",
    "        print(m,\" : \",count)"
   ]
  },
  {
   "cell_type": "code",
   "execution_count": 336,
   "id": "1fcc7a88",
   "metadata": {},
   "outputs": [],
   "source": [
    "\n",
    "tab_part=[]\n",
    "for k in wd_models_nb_typed.keys():\n",
    "    mapped=int(df[df['NameModel']==k][\"mapped\"])\n",
    "    total=int(df[df['NameModel']==k][\"nb2021\"])\n",
    "    typed=wd_models_nb_typed[k]\n",
    "    \n",
    "    if(total!=0):\n",
    "        part=int(int(typed)/int(total)*100)\n",
    "    else:\n",
    "        part=0\n",
    "    tab_part.append([k,mapped,total,typed,part])\n"
   ]
  },
  {
   "cell_type": "code",
   "execution_count": 338,
   "id": "9793f0b3",
   "metadata": {},
   "outputs": [],
   "source": [
    "df_typed = pd.DataFrame(tab_part, columns = ['NameModel','mapped','total','have_type','part'])"
   ]
  },
  {
   "cell_type": "code",
   "execution_count": 344,
   "id": "07e47519",
   "metadata": {},
   "outputs": [
    {
     "data": {
      "text/html": [
       "<div>\n",
       "<style scoped>\n",
       "    .dataframe tbody tr th:only-of-type {\n",
       "        vertical-align: middle;\n",
       "    }\n",
       "\n",
       "    .dataframe tbody tr th {\n",
       "        vertical-align: top;\n",
       "    }\n",
       "\n",
       "    .dataframe thead th {\n",
       "        text-align: right;\n",
       "    }\n",
       "</style>\n",
       "<table border=\"1\" class=\"dataframe\">\n",
       "  <thead>\n",
       "    <tr style=\"text-align: right;\">\n",
       "      <th></th>\n",
       "      <th>NameModel</th>\n",
       "      <th>mapped</th>\n",
       "      <th>total</th>\n",
       "      <th>have_type</th>\n",
       "      <th>part</th>\n",
       "    </tr>\n",
       "  </thead>\n",
       "  <tbody>\n",
       "    <tr>\n",
       "      <th>0</th>\n",
       "      <td>Modèle:Infobox_Biographie2</td>\n",
       "      <td>0</td>\n",
       "      <td>271036</td>\n",
       "      <td>997</td>\n",
       "      <td>0</td>\n",
       "    </tr>\n",
       "    <tr>\n",
       "      <th>1</th>\n",
       "      <td>Modèle:Infobox_Localité</td>\n",
       "      <td>0</td>\n",
       "      <td>56565</td>\n",
       "      <td>1045</td>\n",
       "      <td>1</td>\n",
       "    </tr>\n",
       "    <tr>\n",
       "      <th>2</th>\n",
       "      <td>Modèle:Infobox_Footballeur</td>\n",
       "      <td>1</td>\n",
       "      <td>51108</td>\n",
       "      <td>51561</td>\n",
       "      <td>100</td>\n",
       "    </tr>\n",
       "    <tr>\n",
       "      <th>3</th>\n",
       "      <td>Modèle:Infobox_Monument</td>\n",
       "      <td>1</td>\n",
       "      <td>31795</td>\n",
       "      <td>32787</td>\n",
       "      <td>103</td>\n",
       "    </tr>\n",
       "    <tr>\n",
       "      <th>4</th>\n",
       "      <td>Modèle:Infobox_Artiste</td>\n",
       "      <td>1</td>\n",
       "      <td>25660</td>\n",
       "      <td>25394</td>\n",
       "      <td>98</td>\n",
       "    </tr>\n",
       "    <tr>\n",
       "      <th>5</th>\n",
       "      <td>Modèle:Infobox_Société</td>\n",
       "      <td>1</td>\n",
       "      <td>21456</td>\n",
       "      <td>21891</td>\n",
       "      <td>102</td>\n",
       "    </tr>\n",
       "    <tr>\n",
       "      <th>6</th>\n",
       "      <td>Modèle:Infobox_Cycliste</td>\n",
       "      <td>1</td>\n",
       "      <td>14196</td>\n",
       "      <td>14293</td>\n",
       "      <td>100</td>\n",
       "    </tr>\n",
       "    <tr>\n",
       "      <th>7</th>\n",
       "      <td>Modèle:Infobox_Personnalité_politique</td>\n",
       "      <td>1</td>\n",
       "      <td>14076</td>\n",
       "      <td>14660</td>\n",
       "      <td>104</td>\n",
       "    </tr>\n",
       "    <tr>\n",
       "      <th>8</th>\n",
       "      <td>Modèle:Infobox_Organisation2</td>\n",
       "      <td>0</td>\n",
       "      <td>9743</td>\n",
       "      <td>46</td>\n",
       "      <td>0</td>\n",
       "    </tr>\n",
       "    <tr>\n",
       "      <th>9</th>\n",
       "      <td>Modèle:Infobox_Art</td>\n",
       "      <td>1</td>\n",
       "      <td>8234</td>\n",
       "      <td>8387</td>\n",
       "      <td>101</td>\n",
       "    </tr>\n",
       "    <tr>\n",
       "      <th>10</th>\n",
       "      <td>Modèle:Infobox_Élection</td>\n",
       "      <td>0</td>\n",
       "      <td>7931</td>\n",
       "      <td>5</td>\n",
       "      <td>0</td>\n",
       "    </tr>\n",
       "    <tr>\n",
       "      <th>11</th>\n",
       "      <td>Modèle:Infobox_Commune_d'Espagne</td>\n",
       "      <td>1</td>\n",
       "      <td>7309</td>\n",
       "      <td>7224</td>\n",
       "      <td>98</td>\n",
       "    </tr>\n",
       "    <tr>\n",
       "      <th>12</th>\n",
       "      <td>Modèle:Infobox_Musée</td>\n",
       "      <td>1</td>\n",
       "      <td>5338</td>\n",
       "      <td>5400</td>\n",
       "      <td>101</td>\n",
       "    </tr>\n",
       "    <tr>\n",
       "      <th>13</th>\n",
       "      <td>Modèle:Infobox_Aire_protégée</td>\n",
       "      <td>1</td>\n",
       "      <td>5192</td>\n",
       "      <td>5248</td>\n",
       "      <td>101</td>\n",
       "    </tr>\n",
       "    <tr>\n",
       "      <th>14</th>\n",
       "      <td>Modèle:Infobox_Stade</td>\n",
       "      <td>1</td>\n",
       "      <td>4864</td>\n",
       "      <td>4897</td>\n",
       "      <td>100</td>\n",
       "    </tr>\n",
       "    <tr>\n",
       "      <th>15</th>\n",
       "      <td>Modèle:Infobox_Université</td>\n",
       "      <td>1</td>\n",
       "      <td>4714</td>\n",
       "      <td>4750</td>\n",
       "      <td>100</td>\n",
       "    </tr>\n",
       "    <tr>\n",
       "      <th>16</th>\n",
       "      <td>Modèle:Infobox_Logiciel</td>\n",
       "      <td>1</td>\n",
       "      <td>4289</td>\n",
       "      <td>4287</td>\n",
       "      <td>99</td>\n",
       "    </tr>\n",
       "    <tr>\n",
       "      <th>17</th>\n",
       "      <td>Modèle:Infobox_Municipalité_du_Canada</td>\n",
       "      <td>0</td>\n",
       "      <td>3691</td>\n",
       "      <td>2022</td>\n",
       "      <td>54</td>\n",
       "    </tr>\n",
       "    <tr>\n",
       "      <th>18</th>\n",
       "      <td>Modèle:Infobox_Phare</td>\n",
       "      <td>0</td>\n",
       "      <td>3504</td>\n",
       "      <td>3</td>\n",
       "      <td>0</td>\n",
       "    </tr>\n",
       "    <tr>\n",
       "      <th>19</th>\n",
       "      <td>Modèle:Infobox_Ouvrage</td>\n",
       "      <td>0</td>\n",
       "      <td>2957</td>\n",
       "      <td>31</td>\n",
       "      <td>1</td>\n",
       "    </tr>\n",
       "  </tbody>\n",
       "</table>\n",
       "</div>"
      ],
      "text/plain": [
       "                                NameModel  mapped   total have_type  part\n",
       "0              Modèle:Infobox_Biographie2       0  271036       997     0\n",
       "1                 Modèle:Infobox_Localité       0   56565      1045     1\n",
       "2              Modèle:Infobox_Footballeur       1   51108     51561   100\n",
       "3                 Modèle:Infobox_Monument       1   31795     32787   103\n",
       "4                  Modèle:Infobox_Artiste       1   25660     25394    98\n",
       "5                  Modèle:Infobox_Société       1   21456     21891   102\n",
       "6                 Modèle:Infobox_Cycliste       1   14196     14293   100\n",
       "7   Modèle:Infobox_Personnalité_politique       1   14076     14660   104\n",
       "8            Modèle:Infobox_Organisation2       0    9743        46     0\n",
       "9                      Modèle:Infobox_Art       1    8234      8387   101\n",
       "10                Modèle:Infobox_Élection       0    7931         5     0\n",
       "11       Modèle:Infobox_Commune_d'Espagne       1    7309      7224    98\n",
       "12                   Modèle:Infobox_Musée       1    5338      5400   101\n",
       "13           Modèle:Infobox_Aire_protégée       1    5192      5248   101\n",
       "14                   Modèle:Infobox_Stade       1    4864      4897   100\n",
       "15              Modèle:Infobox_Université       1    4714      4750   100\n",
       "16                Modèle:Infobox_Logiciel       1    4289      4287    99\n",
       "17  Modèle:Infobox_Municipalité_du_Canada       0    3691      2022    54\n",
       "18                   Modèle:Infobox_Phare       0    3504         3     0\n",
       "19                 Modèle:Infobox_Ouvrage       0    2957        31     1"
      ]
     },
     "execution_count": 344,
     "metadata": {},
     "output_type": "execute_result"
    }
   ],
   "source": [
    "df_typed[(df_typed[\"total\"]>100)].head(20)"
   ]
  },
  {
   "cell_type": "markdown",
   "id": "e9392394",
   "metadata": {},
   "source": [
    "----------> Concretly if we mapp the infobox we got a type"
   ]
  },
  {
   "cell_type": "markdown",
   "id": "9b2ad811",
   "metadata": {},
   "source": [
    "### 5. Properties and dynamic infoboxes"
   ]
  },
  {
   "cell_type": "markdown",
   "id": "fa5eb894",
   "metadata": {},
   "source": [
    "#### 5.2. raw properties "
   ]
  },
  {
   "cell_type": "markdown",
   "id": "ff9e898a",
   "metadata": {},
   "source": [
    "* We called here the raw properties the properties extracted directly from the infoboxes without mapping it "
   ]
  },
  {
   "cell_type": "code",
   "execution_count": 374,
   "id": "c1fc45a0",
   "metadata": {},
   "outputs": [],
   "source": [
    "wd_models_nb_prop_avg2={}"
   ]
  },
  {
   "cell_type": "raw",
   "id": "d4979221",
   "metadata": {},
   "source": [
    "for m in wd_models:\n",
    "    if m not in wd_models_nb_prop_avg2.keys():\n",
    "        endpoint2022=\"http://prod-dbpedia.inria.fr/sparql\"\n",
    "        query1='''SELECT AVG(?nb) as ?avg WHERE {SELECT ?id COUNT( DISTINCT(?p)) as ?nb FROM <http://fr.dbpedia.org/graph/dbpedia_generic_infobox-properties>  WHERE {\n",
    "       ?id ?p ?o.\n",
    "       {SELECT ?id  FROM <http://fr.dbpedia.org/graph/dbpedia_generic_article-templates> \n",
    "       WHERE { ?id ?p <http://fr.dbpedia.org/resource/'''+m+'''>}}.\n",
    "       } GROUP BY ?id}''' \n",
    "        r = requests.get(endpoint2022, params = {'format': 'json', 'query': query1})\n",
    "        raw_data = r.json()\n",
    "        if(len(raw_data[\"results\"][\"bindings\"][0].keys())>0):\n",
    "            count=raw_data[\"results\"][\"bindings\"][0][\"avg\"][\"value\"]\n",
    "            wd_models_nb_prop_avg2[m]=count\n",
    "        else:\n",
    "            wd_models_nb_prop_avg2[m]=0\n"
   ]
  },
  {
   "cell_type": "code",
   "execution_count": 383,
   "id": "9cc3f7ff",
   "metadata": {},
   "outputs": [],
   "source": [
    "tab_part=[]\n",
    "for k in wd_models_nb_prop_avg2.keys():\n",
    "    prop=wd_models_nb_prop_avg2[k]\n",
    "    tab_part.append([k,float(prop)])\n",
    "df_prop = pd.DataFrame(tab_part, columns = ['NameModel','prop_avg'])"
   ]
  },
  {
   "cell_type": "code",
   "execution_count": 386,
   "id": "ff0dc7b6",
   "metadata": {},
   "outputs": [
    {
     "data": {
      "text/html": [
       "<div>\n",
       "<style scoped>\n",
       "    .dataframe tbody tr th:only-of-type {\n",
       "        vertical-align: middle;\n",
       "    }\n",
       "\n",
       "    .dataframe tbody tr th {\n",
       "        vertical-align: top;\n",
       "    }\n",
       "\n",
       "    .dataframe thead th {\n",
       "        text-align: right;\n",
       "    }\n",
       "</style>\n",
       "<table border=\"1\" class=\"dataframe\">\n",
       "  <thead>\n",
       "    <tr style=\"text-align: right;\">\n",
       "      <th></th>\n",
       "      <th>NameModel</th>\n",
       "      <th>prop_avg</th>\n",
       "    </tr>\n",
       "  </thead>\n",
       "  <tbody>\n",
       "    <tr>\n",
       "      <th>95</th>\n",
       "      <td>Modèle:Infobox_Parlement</td>\n",
       "      <td>33.903226</td>\n",
       "    </tr>\n",
       "    <tr>\n",
       "      <th>114</th>\n",
       "      <td>Modèle:Infobox_Personnage_de_One_Piece</td>\n",
       "      <td>28.333333</td>\n",
       "    </tr>\n",
       "    <tr>\n",
       "      <th>27</th>\n",
       "      <td>Modèle:Infobox_Descriptif_course_cycliste</td>\n",
       "      <td>28.315057</td>\n",
       "    </tr>\n",
       "    <tr>\n",
       "      <th>10</th>\n",
       "      <td>Modèle:Infobox_Élection</td>\n",
       "      <td>25.080589</td>\n",
       "    </tr>\n",
       "    <tr>\n",
       "      <th>17</th>\n",
       "      <td>Modèle:Infobox_Municipalité_du_Canada</td>\n",
       "      <td>21.497971</td>\n",
       "    </tr>\n",
       "    <tr>\n",
       "      <th>...</th>\n",
       "      <td>...</td>\n",
       "      <td>...</td>\n",
       "    </tr>\n",
       "    <tr>\n",
       "      <th>124</th>\n",
       "      <td>Modèle:Infobox_Volcan2</td>\n",
       "      <td>3.000000</td>\n",
       "    </tr>\n",
       "    <tr>\n",
       "      <th>67</th>\n",
       "      <td>Modèle:Infobox_Course_cycliste</td>\n",
       "      <td>2.310345</td>\n",
       "    </tr>\n",
       "    <tr>\n",
       "      <th>101</th>\n",
       "      <td>Modèle:Infobox_Point_de_vue_panoramique</td>\n",
       "      <td>2.250000</td>\n",
       "    </tr>\n",
       "    <tr>\n",
       "      <th>43</th>\n",
       "      <td>Modèle:Infobox_Plan_d'eau</td>\n",
       "      <td>2.190476</td>\n",
       "    </tr>\n",
       "    <tr>\n",
       "      <th>137</th>\n",
       "      <td>Modèle:Infobox_Maison_d'édition_2</td>\n",
       "      <td>2.000000</td>\n",
       "    </tr>\n",
       "  </tbody>\n",
       "</table>\n",
       "<p>127 rows × 2 columns</p>\n",
       "</div>"
      ],
      "text/plain": [
       "                                     NameModel   prop_avg\n",
       "95                    Modèle:Infobox_Parlement  33.903226\n",
       "114     Modèle:Infobox_Personnage_de_One_Piece  28.333333\n",
       "27   Modèle:Infobox_Descriptif_course_cycliste  28.315057\n",
       "10                     Modèle:Infobox_Élection  25.080589\n",
       "17       Modèle:Infobox_Municipalité_du_Canada  21.497971\n",
       "..                                         ...        ...\n",
       "124                     Modèle:Infobox_Volcan2   3.000000\n",
       "67              Modèle:Infobox_Course_cycliste   2.310345\n",
       "101    Modèle:Infobox_Point_de_vue_panoramique   2.250000\n",
       "43                   Modèle:Infobox_Plan_d'eau   2.190476\n",
       "137          Modèle:Infobox_Maison_d'édition_2   2.000000\n",
       "\n",
       "[127 rows x 2 columns]"
      ]
     },
     "execution_count": 386,
     "metadata": {},
     "output_type": "execute_result"
    }
   ],
   "source": [
    "df_prop[df_prop['prop_avg']>0].sort_values(by=['prop_avg'],ascending=False)"
   ]
  },
  {
   "cell_type": "markdown",
   "id": "17181658",
   "metadata": {},
   "source": [
    "Ok we still have information filled by the Wikipedians ! If we mapp it we could be able to get it in DBpedia"
   ]
  },
  {
   "cell_type": "markdown",
   "id": "2a117a28",
   "metadata": {},
   "source": [
    "#### 5.1. mapped properties "
   ]
  },
  {
   "cell_type": "code",
   "execution_count": 346,
   "id": "3364abe5",
   "metadata": {},
   "outputs": [],
   "source": [
    "wd_models_nb_prop_avg={}"
   ]
  },
  {
   "cell_type": "code",
   "execution_count": null,
   "id": "ce4552aa",
   "metadata": {},
   "outputs": [],
   "source": [
    "for m in wd_models:\n",
    "    if m not in wd_models_nb_prop_avg.keys():\n",
    "        endpoint2022=\"http://prod-dbpedia.inria.fr/sparql\"\n",
    "        query1='''SELECT AVG(?nb) as ?avg WHERE {SELECT ?id COUNT( DISTINCT(?p)) as ?nb FROM <http://fr.dbpedia.org/graph/dbpedia_mappings_specific-mappingbased-properties>  WHERE {\n",
    "        ?id ?p ?o.\n",
    "        {SELECT ?id  FROM <http://fr.dbpedia.org/graph/dbpedia_generic_article-templates> \n",
    "        WHERE { ?id ?p <http://fr.dbpedia.org/resource/'''+m+'''>}}.\n",
    "        } GROUP BY ?id}''' \n",
    "        r = requests.get(endpoint2022, params = {'format': 'json', 'query': query1})\n",
    "        raw_data = r.json()\n",
    "        if(len(raw_data[\"results\"][\"bindings\"][0].keys())>0):\n",
    "            count=raw_data[\"results\"][\"bindings\"][0][\"avg\"][\"value\"]\n",
    "            wd_models_nb_prop_avg[m]=count\n",
    "        else:\n",
    "            wd_models_nb_prop_avg[m]=0\n",
    "        print(m,\" : \",count)\n",
    "\n"
   ]
  },
  {
   "cell_type": "code",
   "execution_count": 360,
   "id": "8200017b",
   "metadata": {},
   "outputs": [],
   "source": [
    "tab_part=[]\n",
    "for k in wd_models_nb_prop_avg.keys():\n",
    "    mapped=int(df[df['NameModel']==k][\"mapped\"])\n",
    "    prop=wd_models_nb_prop_avg[k]\n",
    "    \n",
    "    tab_part.append([k,mapped,float(prop)])\n",
    "df_prop = pd.DataFrame(tab_part, columns = ['NameModel','mapped','prop_avg'])"
   ]
  },
  {
   "cell_type": "code",
   "execution_count": 372,
   "id": "5222cfad",
   "metadata": {},
   "outputs": [
    {
     "data": {
      "text/plain": [
       "(129, 3)"
      ]
     },
     "execution_count": 372,
     "metadata": {},
     "output_type": "execute_result"
    }
   ],
   "source": [
    "df_prop[df_prop[\"prop_avg\"]==0].shape"
   ]
  },
  {
   "cell_type": "markdown",
   "id": "1edefbaf",
   "metadata": {},
   "source": [
    "* 129/138 doesn't have any mapped properties in average... so a majority\n",
    " * not a surprise because a majority of them are not mapped \n",
    "  * But what about mapped dynamic infoboxes ?"
   ]
  },
  {
   "cell_type": "code",
   "execution_count": 370,
   "id": "098e78c7",
   "metadata": {},
   "outputs": [
    {
     "data": {
      "text/html": [
       "<div>\n",
       "<style scoped>\n",
       "    .dataframe tbody tr th:only-of-type {\n",
       "        vertical-align: middle;\n",
       "    }\n",
       "\n",
       "    .dataframe tbody tr th {\n",
       "        vertical-align: top;\n",
       "    }\n",
       "\n",
       "    .dataframe thead th {\n",
       "        text-align: right;\n",
       "    }\n",
       "</style>\n",
       "<table border=\"1\" class=\"dataframe\">\n",
       "  <thead>\n",
       "    <tr style=\"text-align: right;\">\n",
       "      <th></th>\n",
       "      <th>NameModel</th>\n",
       "      <th>mapped</th>\n",
       "      <th>prop_avg</th>\n",
       "    </tr>\n",
       "  </thead>\n",
       "  <tbody>\n",
       "    <tr>\n",
       "      <th>0</th>\n",
       "      <td>Modèle:Infobox_Biographie2</td>\n",
       "      <td>0</td>\n",
       "      <td>1.000000</td>\n",
       "    </tr>\n",
       "    <tr>\n",
       "      <th>2</th>\n",
       "      <td>Modèle:Infobox_Footballeur</td>\n",
       "      <td>1</td>\n",
       "      <td>1.000000</td>\n",
       "    </tr>\n",
       "    <tr>\n",
       "      <th>6</th>\n",
       "      <td>Modèle:Infobox_Cycliste</td>\n",
       "      <td>1</td>\n",
       "      <td>2.000000</td>\n",
       "    </tr>\n",
       "    <tr>\n",
       "      <th>7</th>\n",
       "      <td>Modèle:Infobox_Personnalité_politique</td>\n",
       "      <td>1</td>\n",
       "      <td>1.000000</td>\n",
       "    </tr>\n",
       "    <tr>\n",
       "      <th>13</th>\n",
       "      <td>Modèle:Infobox_Aire_protégée</td>\n",
       "      <td>1</td>\n",
       "      <td>1.000000</td>\n",
       "    </tr>\n",
       "    <tr>\n",
       "      <th>20</th>\n",
       "      <td>Modèle:Infobox_Gratte-ciel</td>\n",
       "      <td>1</td>\n",
       "      <td>1.000000</td>\n",
       "    </tr>\n",
       "    <tr>\n",
       "      <th>22</th>\n",
       "      <td>Modèle:Infobox_Gymnaste</td>\n",
       "      <td>1</td>\n",
       "      <td>1.549451</td>\n",
       "    </tr>\n",
       "    <tr>\n",
       "      <th>26</th>\n",
       "      <td>Modèle:Infobox_Barrage</td>\n",
       "      <td>1</td>\n",
       "      <td>1.000000</td>\n",
       "    </tr>\n",
       "    <tr>\n",
       "      <th>66</th>\n",
       "      <td>Modèle:Infobox_Chanson</td>\n",
       "      <td>0</td>\n",
       "      <td>1.000000</td>\n",
       "    </tr>\n",
       "  </tbody>\n",
       "</table>\n",
       "</div>"
      ],
      "text/plain": [
       "                                NameModel  mapped  prop_avg\n",
       "0              Modèle:Infobox_Biographie2       0  1.000000\n",
       "2              Modèle:Infobox_Footballeur       1  1.000000\n",
       "6                 Modèle:Infobox_Cycliste       1  2.000000\n",
       "7   Modèle:Infobox_Personnalité_politique       1  1.000000\n",
       "13           Modèle:Infobox_Aire_protégée       1  1.000000\n",
       "20             Modèle:Infobox_Gratte-ciel       1  1.000000\n",
       "22                Modèle:Infobox_Gymnaste       1  1.549451\n",
       "26                 Modèle:Infobox_Barrage       1  1.000000\n",
       "66                 Modèle:Infobox_Chanson       0  1.000000"
      ]
     },
     "execution_count": 370,
     "metadata": {},
     "output_type": "execute_result"
    }
   ],
   "source": [
    "df_prop[df_prop[\"prop_avg\"]>0]"
   ]
  },
  {
   "cell_type": "markdown",
   "id": "a8581dc9",
   "metadata": {},
   "source": [
    "* Ok mapping wikidata infoboxes generally give us no data... properties need to be \"re-mapped\""
   ]
  },
  {
   "cell_type": "code",
   "execution_count": null,
   "id": "c429aff5",
   "metadata": {},
   "outputs": [],
   "source": []
  }
 ],
 "metadata": {
  "kernelspec": {
   "display_name": "Python 3",
   "language": "python",
   "name": "python3"
  },
  "language_info": {
   "codemirror_mode": {
    "name": "ipython",
    "version": 3
   },
   "file_extension": ".py",
   "mimetype": "text/x-python",
   "name": "python",
   "nbconvert_exporter": "python",
   "pygments_lexer": "ipython3",
   "version": "3.8.8"
  }
 },
 "nbformat": 4,
 "nbformat_minor": 5
}
